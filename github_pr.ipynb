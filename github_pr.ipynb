{
 "cells": [
  {
   "cell_type": "markdown",
   "source": [
    "# Generate insights on GitHub PRs in the last 6 months"
   ],
   "metadata": {
    "collapsed": false,
    "pycharm": {
     "name": "#%% md\n"
    }
   }
  },
  {
   "cell_type": "code",
   "execution_count": 1,
   "metadata": {
    "collapsed": true,
    "pycharm": {
     "name": "#%%\n"
    }
   },
   "outputs": [],
   "source": [
    "import os\n",
    "\n",
    "import pandas as pd\n",
    "from dotenv import load_dotenv\n",
    "from py_github.py_github import PyGithub\n",
    "import sqlite3"
   ]
  },
  {
   "cell_type": "code",
   "execution_count": 2,
   "outputs": [],
   "source": [
    "# load .env file\n",
    "load_dotenv()\n",
    "pygh_username = os.getenv(\"PYGH_USER\")\n",
    "pygh_token = os.getenv(\"PYGH_TOKEN\")\n",
    "pygh = PyGithub(pygh_username, pygh_token)\n",
    "\n",
    "sql_conn = sqlite3.connect(\"./data/github.db\")"
   ],
   "metadata": {
    "collapsed": false,
    "pycharm": {
     "name": "#%%# load env\n"
    }
   }
  },
  {
   "cell_type": "markdown",
   "source": [
    "## Get all the repos for the user specified in the .env file"
   ],
   "metadata": {
    "collapsed": false,
    "pycharm": {
     "name": "#%% md\n"
    }
   }
  },
  {
   "cell_type": "code",
   "execution_count": 3,
   "outputs": [],
   "source": [
    "repos = pygh.get_repos()"
   ],
   "metadata": {
    "collapsed": false,
    "pycharm": {
     "name": "#%%\n"
    }
   }
  },
  {
   "cell_type": "code",
   "execution_count": 4,
   "outputs": [
    {
     "data": {
      "text/plain": "143"
     },
     "execution_count": 4,
     "metadata": {},
     "output_type": "execute_result"
    }
   ],
   "source": [
    "repos_df = pd.DataFrame(repos)\n",
    "repos_df.head()\n",
    "repos_slim_df = repos_df.filter(['id', 'name', 'full_name', 'description', 'url'])\n",
    "# # repos_sql_data_df.head()\n",
    "# # write repos to sqllite db\n",
    "repos_slim_df.to_sql(\"repos\", sql_conn, if_exists=\"replace\")\n"
   ],
   "metadata": {
    "collapsed": false,
    "pycharm": {
     "name": "#%%\n"
    }
   }
  },
  {
   "cell_type": "markdown",
   "source": [
    "# get all closed pull requests for repos in the last 6 months"
   ],
   "metadata": {
    "collapsed": false,
    "pycharm": {
     "name": "#%% md\n"
    }
   }
  },
  {
   "cell_type": "code",
   "execution_count": 11,
   "outputs": [],
   "source": [
    "# from concurrent.futures import ThreadPoolExecutor\n",
    "import concurrent.futures\n",
    "prs = {}\n",
    "\n",
    "#truncate table\n",
    "cur = sql_conn.cursor()\n",
    "cur.execute(\"DROP TABLE IF EXISTS 'prs'\")\n",
    "cur.close()\n",
    "\n",
    "with concurrent.futures.ThreadPoolExecutor(max_workers=30) as executor:\n",
    "    futures = []\n",
    "    sql_futures = []\n",
    "    prs = []\n",
    "    for index, repo in repos_slim_df.iterrows():\n",
    "        futures.append(executor.submit(pygh.get_repo_pull_requests,  repo_full_name=repo['full_name'] ,state='closed', length_in_months=6))\n",
    "        for future in concurrent.futures.as_completed(futures):\n",
    "            res = future.result()\n",
    "            if  res and len(res) > 0:\n",
    "                for pr in res:\n",
    "                    repo_id = pr['head']['repo']['id']\n",
    "                    pr_dict = {\n",
    "                        'number': pr['number'],\n",
    "                        'title': pr['title'],\n",
    "                        'repo_id': repo_id,\n",
    "                        'created_at': pr['created_at'],\n",
    "                        'updated_at': pr['updated_at'],\n",
    "                        'closed_dat': pr['closed_at'],\n",
    "                        'merged_at':  pr['merged_at']\n",
    "                    }\n",
    "                    prs.append(pr_dict)\n",
    "    prs_df = pd.DataFrame(prs).set_index('number')\n",
    "    prs_df.to_sql('prs', sql_conn, if_exists='replace')\n"
   ],
   "metadata": {
    "collapsed": false,
    "pycharm": {
     "name": "#%%\n"
    }
   }
  },
  {
   "cell_type": "code",
   "execution_count": null,
   "outputs": [],
   "source": [],
   "metadata": {
    "collapsed": false,
    "pycharm": {
     "name": "#%%\n"
    }
   }
  }
 ],
 "metadata": {
  "kernelspec": {
   "display_name": "Python 3",
   "language": "python",
   "name": "python3"
  },
  "language_info": {
   "codemirror_mode": {
    "name": "ipython",
    "version": 2
   },
   "file_extension": ".py",
   "mimetype": "text/x-python",
   "name": "python",
   "nbconvert_exporter": "python",
   "pygments_lexer": "ipython2",
   "version": "2.7.6"
  }
 },
 "nbformat": 4,
 "nbformat_minor": 0
}